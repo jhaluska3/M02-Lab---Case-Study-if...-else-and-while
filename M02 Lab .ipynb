{
 "cells": [
  {
   "cell_type": "code",
   "execution_count": 1,
   "id": "a682c045",
   "metadata": {},
   "outputs": [
    {
     "name": "stdout",
     "output_type": "stream",
     "text": [
      "Please enter student's last name (Enter ZZZ to quit): Dylan\n",
      "Please enter student's first name: Bob\n",
      "Please enter student's GPA: 3.5\n",
      "Bob Dylan has made the Dean's List.\n",
      "Please enter student's last name (Enter ZZZ to quit):Last\n",
      "Please enter student's first name: First\n",
      "Please enter student's GPA: 3.25\n",
      "First Last has made the Honor Roll.\n",
      "Please enter student's last name (Enter ZZZ to quit):Star\n",
      "Please enter student's first name: Rock\n",
      "Please enter student's GPA: 3.1\n",
      "Please enter student's last name (Enter ZZZ to quit):K\n",
      "Please enter student's first name: O\n",
      "Please enter student's GPA: 3.8\n",
      "O K has made the Dean's List.\n",
      "Please enter student's last name (Enter ZZZ to quit):DK\n",
      "Please enter student's first name: I\n",
      "Please enter student's GPA: 3.4\n",
      "I DK has made the Honor Roll.\n",
      "Please enter student's last name (Enter ZZZ to quit):ZZZ\n"
     ]
    }
   ],
   "source": [
    "#Jakob Haluska\n",
    "#M02 Lab\n",
    "#This app will accept student's last name, if it is not \"ZZZ\" then the program will ask for first name and GPA. If GPA >= 3.5 the student makes the deans list, GPA >= 3.25  \n",
    "#the student makes the honor roll. The name will be printed with their achievement\n",
    "\n",
    "lastName=input(\"Please enter student's last name (Enter ZZZ to quit): \") #last name input\n",
    "while lastName != \"ZZZ\": #loop checking for \"ZZZ\"\n",
    "\n",
    "    firstName=input(\"Please enter student's first name: \") # first name\n",
    "    GPA = float(input(\"Please enter student's GPA: \")) #GPA\n",
    "    if GPA >= 3.5: #checking for deans list\n",
    "        print (firstName, lastName, \"has made the Dean's List.\")\n",
    "    \n",
    "    else:\n",
    "        if GPA >= 3.25:#checking for honor roll\n",
    "            print (firstName, lastName, \"has made the Honor Roll.\")\n",
    "    \n",
    "    lastName=input(\"Please enter student's last name (Enter ZZZ to quit):\")# taking new last name to restart loop"
   ]
  },
  {
   "cell_type": "code",
   "execution_count": null,
   "id": "38ce1225",
   "metadata": {},
   "outputs": [],
   "source": []
  }
 ],
 "metadata": {
  "kernelspec": {
   "display_name": "Python 3 (ipykernel)",
   "language": "python",
   "name": "python3"
  },
  "language_info": {
   "codemirror_mode": {
    "name": "ipython",
    "version": 3
   },
   "file_extension": ".py",
   "mimetype": "text/x-python",
   "name": "python",
   "nbconvert_exporter": "python",
   "pygments_lexer": "ipython3",
   "version": "3.9.13"
  }
 },
 "nbformat": 4,
 "nbformat_minor": 5
}
